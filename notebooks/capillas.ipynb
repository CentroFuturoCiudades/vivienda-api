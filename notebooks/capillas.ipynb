{
 "cells": [
  {
   "cell_type": "code",
   "execution_count": 1,
   "metadata": {},
   "outputs": [],
   "source": [
    "import sys\n",
    "sys.path.append('../')\n",
    "from scripts.process_lots import gather_data\n",
    "import pyogrio\n",
    "import pandas as pd\n",
    "import geopandas as gpd\n",
    "import matplotlib.pyplot as plt"
   ]
  },
  {
   "cell_type": "code",
   "execution_count": 57,
   "metadata": {},
   "outputs": [],
   "source": [
    "gdf_bounds = gpd.read_file('../data/primavera/original/bounds.geojson')"
   ]
  },
  {
   "cell_type": "code",
   "execution_count": 58,
   "metadata": {},
   "outputs": [],
   "source": [
    "df_blocks = gather_data(25)\n",
    "df_blocks = df_blocks.set_index('CVEGEO')\n",
    "df_blocks = df_blocks.apply(pd.to_numeric, errors='coerce').fillna(0)"
   ]
  },
  {
   "cell_type": "code",
   "execution_count": 59,
   "metadata": {},
   "outputs": [],
   "source": [
    "df_blocks = df_blocks[ df_blocks[ \"MZA\"] != 0 ]\n",
    "df_blocks = df_blocks[ df_blocks[\"MUN\"] == 6 ]"
   ]
  },
  {
   "cell_type": "code",
   "execution_count": 70,
   "metadata": {},
   "outputs": [
    {
     "name": "stdout",
     "output_type": "stream",
     "text": [
      "Población en Culiacán, pero que no vive el Poligono de 12 años o más que tienen celular en su hogar 525269.0\n",
      "Población en Culiacán, pero que no vive el Poligono de 18 años o más que tienen celular en su hogar 462201.0\n"
     ]
    }
   ],
   "source": [
    "df_cel = df_blocks[ df_blocks[\"VPH_CEL\"] > 0 ]\n",
    "\n",
    "print( \"Población en Culiacán, pero que no vive el Poligono de 12 años o más que tienen celular en su hogar\", df_cel[\"P_12YMAS\"].sum() - 182566.0 )\n",
    "print( \"Población en Culiacán, pero que no vive el Poligono de 18 años o más que tienen celular en su hogar\", df_cel[\"P_18YMAS\"].sum() - 157395.0)\n",
    "  "
   ]
  },
  {
   "cell_type": "code",
   "execution_count": 5,
   "metadata": {},
   "outputs": [
    {
     "data": {
      "text/plain": [
       "ratio_VPH_TINACO       57.414000\n",
       "ratio_VPH_LAVAD        88.943024\n",
       "ratio_VPH_HMICRO       68.311525\n",
       "ratio_VPH_AUTOM        73.505249\n",
       "ratio_VPH_CVJ          27.988363\n",
       "ratio_P_0A2             2.546321\n",
       "ratio_P_3A5             2.789278\n",
       "ratio_P_6A11            7.121643\n",
       "ratio_P_12A14           2.945662\n",
       "ratio_P_15A17           2.928887\n",
       "ratio_P_18A24           9.430348\n",
       "ratio_P_60YMAS          9.485291\n",
       "ratio_PCATOLICA        66.776299\n",
       "ratio_PSIN_RELIG        9.540768\n",
       "ratio_salud_privado     2.102413\n",
       "ratio_sin_salud        18.806105\n",
       "ratio_pea              48.112528\n",
       "dtype: float64"
      ]
     },
     "execution_count": 5,
     "metadata": {},
     "output_type": "execute_result"
    }
   ],
   "source": [
    "df_blocks['ratio_salud_privado'] = df_blocks['PAFIL_IPRIV'] / df_blocks['POBTOT']\n",
    "df_blocks['ratio_sin_salud'] = df_blocks['PSINDER'] / df_blocks['POBTOT']\n",
    "df_blocks['ratio_pea'] = df_blocks['PEA'] / df_blocks['POBTOT']\n",
    "cols = ['VPH_TINACO', 'VPH_LAVAD', 'VPH_HMICRO', 'VPH_AUTOM', 'VPH_CVJ']\n",
    "for col in cols:\n",
    "    df_blocks[f'ratio_{col}'] = df_blocks.apply(\n",
    "        lambda row: row[col] / row['VIVPAR_HAB'] if row['VIVPAR_HAB'] > 0 else 1, axis=1\n",
    "    )\n",
    "\n",
    "cols2 = ['P_0A2', 'P_3A5', 'P_6A11', 'P_12A14', 'P_15A17', 'P_18A24', 'P_60YMAS', 'PCATOLICA', 'PSIN_RELIG']\n",
    "for col in cols2:\n",
    "    df_blocks[f'ratio_{col}'] = df_blocks.apply(\n",
    "        lambda row: row[col] / row['POBTOT'] if row['POBTOT'] > 0 else 0, axis=1\n",
    "    )\n",
    "df_blocks[[f'ratio_{col}' for col in cols] + [f'ratio_{col}' for col in cols2] + ['ratio_salud_privado', 'ratio_sin_salud', 'ratio_pea']].mean() * 100"
   ]
  },
  {
   "cell_type": "code",
   "execution_count": 6,
   "metadata": {},
   "outputs": [
    {
     "data": {
      "text/plain": [
       "9.657219952001038"
      ]
     },
     "execution_count": 6,
     "metadata": {},
     "output_type": "execute_result"
    }
   ],
   "source": [
    "df_blocks['GRAPROES'].mean()"
   ]
  },
  {
   "cell_type": "code",
   "execution_count": 52,
   "metadata": {},
   "outputs": [],
   "source": [
    "import os\n",
    "\n",
    "gdf_culi = []\n",
    "\n",
    "\n",
    "def process_blocks():\n",
    "  gdf_blocks = gpd.GeoDataFrame()\n",
    "  # get all folders in the directory\n",
    "  folders = os.listdir('../data/_primavera/original/inegi/')\n",
    "  for folder in folders:\n",
    "    # check if the folder is a directory\n",
    "    if not os.path.isdir(f'../data/_primavera/original/inegi/{folder}'):\n",
    "      continue\n",
    "    temp_gdf = gpd.read_file(f'../data/_primavera/original/inegi/{folder}/conjunto_de_datos/{folder}m.shp')\n",
    "    temp_gdf['colonia'] = folder\n",
    "    # concat the dataframes\n",
    "    gdf_blocks = pd.concat([gdf_blocks, temp_gdf], ignore_index=True)\n",
    "  gdf_blocks = gpd.GeoDataFrame(gdf_blocks, geometry='geometry').to_crs(epsg=4326)\n",
    "  global gdf_culi\n",
    "  gdf_culi = gdf_blocks \n",
    "  # print( \"Población en Culiacán, pero que no vive el Poligono de 12 años o más que tienen celular en su hogar\", gdf_blocks[\"P_12YMAS\"].sum() )\n",
    "  # print( \"Población en Culiacán, pero que no vive el Poligono de 15 años o más que tienen celular en su hogar\", gdf_blocks[\"P_15YMAS\"].sum() )\n",
    "  gdf_blocks = gdf_blocks[gdf_blocks.within(gdf_bounds.geometry[0])]\n",
    "  gdf_blocks = gdf_blocks.drop(columns=['IDENTIFICA']).set_index('CVEGEO')\n",
    "  return gdf_blocks"
   ]
  },
  {
   "cell_type": "code",
   "execution_count": 53,
   "metadata": {},
   "outputs": [
    {
     "data": {
      "text/html": [
       "<div>\n",
       "<style scoped>\n",
       "    .dataframe tbody tr th:only-of-type {\n",
       "        vertical-align: middle;\n",
       "    }\n",
       "\n",
       "    .dataframe tbody tr th {\n",
       "        vertical-align: top;\n",
       "    }\n",
       "\n",
       "    .dataframe thead th {\n",
       "        text-align: right;\n",
       "    }\n",
       "</style>\n",
       "<table border=\"1\" class=\"dataframe\">\n",
       "  <thead>\n",
       "    <tr style=\"text-align: right;\">\n",
       "      <th></th>\n",
       "      <th>geometry</th>\n",
       "      <th>colonia</th>\n",
       "      <th>ENTIDAD</th>\n",
       "      <th>NOM_ENT</th>\n",
       "      <th>MUN</th>\n",
       "      <th>NOM_MUN</th>\n",
       "      <th>LOC</th>\n",
       "      <th>NOM_LOC</th>\n",
       "      <th>AGEB</th>\n",
       "      <th>MZA</th>\n",
       "      <th>...</th>\n",
       "      <th>ratio_VPH_CVJ</th>\n",
       "      <th>ratio_P_0A2</th>\n",
       "      <th>ratio_P_3A5</th>\n",
       "      <th>ratio_P_6A11</th>\n",
       "      <th>ratio_P_12A14</th>\n",
       "      <th>ratio_P_15A17</th>\n",
       "      <th>ratio_P_18A24</th>\n",
       "      <th>ratio_P_60YMAS</th>\n",
       "      <th>ratio_PCATOLICA</th>\n",
       "      <th>ratio_PSIN_RELIG</th>\n",
       "    </tr>\n",
       "    <tr>\n",
       "      <th>CVEGEO</th>\n",
       "      <th></th>\n",
       "      <th></th>\n",
       "      <th></th>\n",
       "      <th></th>\n",
       "      <th></th>\n",
       "      <th></th>\n",
       "      <th></th>\n",
       "      <th></th>\n",
       "      <th></th>\n",
       "      <th></th>\n",
       "      <th></th>\n",
       "      <th></th>\n",
       "      <th></th>\n",
       "      <th></th>\n",
       "      <th></th>\n",
       "      <th></th>\n",
       "      <th></th>\n",
       "      <th></th>\n",
       "      <th></th>\n",
       "      <th></th>\n",
       "      <th></th>\n",
       "    </tr>\n",
       "  </thead>\n",
       "  <tbody>\n",
       "    <tr>\n",
       "      <th>250060001946A006</th>\n",
       "      <td>POLYGON ((-107.38430 24.74243, -107.38363 24.7...</td>\n",
       "      <td>250060001</td>\n",
       "      <td>25</td>\n",
       "      <td>0.0</td>\n",
       "      <td>6</td>\n",
       "      <td>0.0</td>\n",
       "      <td>1</td>\n",
       "      <td>0.0</td>\n",
       "      <td>0.0</td>\n",
       "      <td>6</td>\n",
       "      <td>...</td>\n",
       "      <td>0.272727</td>\n",
       "      <td>0.000000</td>\n",
       "      <td>0.137931</td>\n",
       "      <td>0.000000</td>\n",
       "      <td>0.000000</td>\n",
       "      <td>0.000000</td>\n",
       "      <td>0.000000</td>\n",
       "      <td>0.000000</td>\n",
       "      <td>0.896552</td>\n",
       "      <td>0.103448</td>\n",
       "    </tr>\n",
       "    <tr>\n",
       "      <th>2500600013827021</th>\n",
       "      <td>POLYGON ((-107.37413 24.76151, -107.37413 24.7...</td>\n",
       "      <td>250060001</td>\n",
       "      <td>25</td>\n",
       "      <td>0.0</td>\n",
       "      <td>6</td>\n",
       "      <td>0.0</td>\n",
       "      <td>1</td>\n",
       "      <td>0.0</td>\n",
       "      <td>3827.0</td>\n",
       "      <td>21</td>\n",
       "      <td>...</td>\n",
       "      <td>0.000000</td>\n",
       "      <td>0.065574</td>\n",
       "      <td>0.000000</td>\n",
       "      <td>0.147541</td>\n",
       "      <td>0.000000</td>\n",
       "      <td>0.000000</td>\n",
       "      <td>0.098361</td>\n",
       "      <td>0.098361</td>\n",
       "      <td>0.868852</td>\n",
       "      <td>0.131148</td>\n",
       "    </tr>\n",
       "    <tr>\n",
       "      <th>2500600014350009</th>\n",
       "      <td>POLYGON ((-107.38822 24.76567, -107.38815 24.7...</td>\n",
       "      <td>250060001</td>\n",
       "      <td>25</td>\n",
       "      <td>0.0</td>\n",
       "      <td>6</td>\n",
       "      <td>0.0</td>\n",
       "      <td>1</td>\n",
       "      <td>0.0</td>\n",
       "      <td>4350.0</td>\n",
       "      <td>9</td>\n",
       "      <td>...</td>\n",
       "      <td>0.125000</td>\n",
       "      <td>0.042781</td>\n",
       "      <td>0.080214</td>\n",
       "      <td>0.117647</td>\n",
       "      <td>0.101604</td>\n",
       "      <td>0.064171</td>\n",
       "      <td>0.117647</td>\n",
       "      <td>0.037433</td>\n",
       "      <td>0.759358</td>\n",
       "      <td>0.080214</td>\n",
       "    </tr>\n",
       "    <tr>\n",
       "      <th>2500600016516032</th>\n",
       "      <td>POLYGON ((-107.41097 24.75519, -107.41128 24.7...</td>\n",
       "      <td>250060001</td>\n",
       "      <td>25</td>\n",
       "      <td>0.0</td>\n",
       "      <td>6</td>\n",
       "      <td>0.0</td>\n",
       "      <td>1</td>\n",
       "      <td>0.0</td>\n",
       "      <td>6516.0</td>\n",
       "      <td>32</td>\n",
       "      <td>...</td>\n",
       "      <td>0.000000</td>\n",
       "      <td>0.000000</td>\n",
       "      <td>0.000000</td>\n",
       "      <td>0.190476</td>\n",
       "      <td>0.000000</td>\n",
       "      <td>0.000000</td>\n",
       "      <td>0.119048</td>\n",
       "      <td>0.095238</td>\n",
       "      <td>0.928571</td>\n",
       "      <td>0.000000</td>\n",
       "    </tr>\n",
       "    <tr>\n",
       "      <th>2500600013884021</th>\n",
       "      <td>POLYGON ((-107.38291 24.76206, -107.38295 24.7...</td>\n",
       "      <td>250060001</td>\n",
       "      <td>25</td>\n",
       "      <td>0.0</td>\n",
       "      <td>6</td>\n",
       "      <td>0.0</td>\n",
       "      <td>1</td>\n",
       "      <td>0.0</td>\n",
       "      <td>3884.0</td>\n",
       "      <td>21</td>\n",
       "      <td>...</td>\n",
       "      <td>0.000000</td>\n",
       "      <td>0.060606</td>\n",
       "      <td>0.000000</td>\n",
       "      <td>0.121212</td>\n",
       "      <td>0.000000</td>\n",
       "      <td>0.060606</td>\n",
       "      <td>0.212121</td>\n",
       "      <td>0.000000</td>\n",
       "      <td>0.742424</td>\n",
       "      <td>0.257576</td>\n",
       "    </tr>\n",
       "  </tbody>\n",
       "</table>\n",
       "<p>5 rows × 249 columns</p>\n",
       "</div>"
      ],
      "text/plain": [
       "                                                           geometry  \\\n",
       "CVEGEO                                                                \n",
       "250060001946A006  POLYGON ((-107.38430 24.74243, -107.38363 24.7...   \n",
       "2500600013827021  POLYGON ((-107.37413 24.76151, -107.37413 24.7...   \n",
       "2500600014350009  POLYGON ((-107.38822 24.76567, -107.38815 24.7...   \n",
       "2500600016516032  POLYGON ((-107.41097 24.75519, -107.41128 24.7...   \n",
       "2500600013884021  POLYGON ((-107.38291 24.76206, -107.38295 24.7...   \n",
       "\n",
       "                    colonia  ENTIDAD  NOM_ENT  MUN  NOM_MUN  LOC  NOM_LOC  \\\n",
       "CVEGEO                                                                      \n",
       "250060001946A006  250060001       25      0.0    6      0.0    1      0.0   \n",
       "2500600013827021  250060001       25      0.0    6      0.0    1      0.0   \n",
       "2500600014350009  250060001       25      0.0    6      0.0    1      0.0   \n",
       "2500600016516032  250060001       25      0.0    6      0.0    1      0.0   \n",
       "2500600013884021  250060001       25      0.0    6      0.0    1      0.0   \n",
       "\n",
       "                    AGEB  MZA  ...  ratio_VPH_CVJ  ratio_P_0A2  ratio_P_3A5  \\\n",
       "CVEGEO                         ...                                            \n",
       "250060001946A006     0.0    6  ...       0.272727     0.000000     0.137931   \n",
       "2500600013827021  3827.0   21  ...       0.000000     0.065574     0.000000   \n",
       "2500600014350009  4350.0    9  ...       0.125000     0.042781     0.080214   \n",
       "2500600016516032  6516.0   32  ...       0.000000     0.000000     0.000000   \n",
       "2500600013884021  3884.0   21  ...       0.000000     0.060606     0.000000   \n",
       "\n",
       "                  ratio_P_6A11  ratio_P_12A14  ratio_P_15A17  ratio_P_18A24  \\\n",
       "CVEGEO                                                                        \n",
       "250060001946A006      0.000000       0.000000       0.000000       0.000000   \n",
       "2500600013827021      0.147541       0.000000       0.000000       0.098361   \n",
       "2500600014350009      0.117647       0.101604       0.064171       0.117647   \n",
       "2500600016516032      0.190476       0.000000       0.000000       0.119048   \n",
       "2500600013884021      0.121212       0.000000       0.060606       0.212121   \n",
       "\n",
       "                  ratio_P_60YMAS  ratio_PCATOLICA  ratio_PSIN_RELIG  \n",
       "CVEGEO                                                               \n",
       "250060001946A006        0.000000         0.896552          0.103448  \n",
       "2500600013827021        0.098361         0.868852          0.131148  \n",
       "2500600014350009        0.037433         0.759358          0.080214  \n",
       "2500600016516032        0.095238         0.928571          0.000000  \n",
       "2500600013884021        0.000000         0.742424          0.257576  \n",
       "\n",
       "[5 rows x 249 columns]"
      ]
     },
     "execution_count": 53,
     "metadata": {},
     "output_type": "execute_result"
    }
   ],
   "source": [
    "gdf_blocks = process_blocks()\n",
    "gdf_blocks = gdf_blocks.merge(df_blocks, left_index=True, right_index=True, how='inner')\n",
    "gdf_blocks.head()"
   ]
  },
  {
   "cell_type": "code",
   "execution_count": 55,
   "metadata": {},
   "outputs": [],
   "source": [
    "gdf_culi = gdf_culi.merge(df_blocks, left_index=True, right_index=True, how='inner')\n"
   ]
  },
  {
   "cell_type": "code",
   "execution_count": 56,
   "metadata": {},
   "outputs": [
    {
     "name": "stdout",
     "output_type": "stream",
     "text": [
      "Empty GeoDataFrame\n",
      "Columns: [IDENTIFICA, CVEGEO, geometry, colonia, ENTIDAD, NOM_ENT, MUN, NOM_MUN, LOC, NOM_LOC, AGEB, MZA, POBTOT, POBFEM, POBMAS, P_0A2, P_0A2_F, P_0A2_M, P_3YMAS, P_3YMAS_F, P_3YMAS_M, P_5YMAS, P_5YMAS_F, P_5YMAS_M, P_12YMAS, P_12YMAS_F, P_12YMAS_M, P_15YMAS, P_15YMAS_F, P_15YMAS_M, P_18YMAS, P_18YMAS_F, P_18YMAS_M, P_3A5, P_3A5_F, P_3A5_M, P_6A11, P_6A11_F, P_6A11_M, P_8A14, P_8A14_F, P_8A14_M, P_12A14, P_12A14_F, P_12A14_M, P_15A17, P_15A17_F, P_15A17_M, P_18A24, P_18A24_F, P_18A24_M, P_15A49_F, P_60YMAS, P_60YMAS_F, P_60YMAS_M, REL_H_M, POB0_14, POB15_64, POB65_MAS, PROM_HNV, PNACENT, PNACENT_F, PNACENT_M, PNACOE, PNACOE_F, PNACOE_M, PRES2015, PRES2015_F, PRES2015_M, PRESOE15, PRESOE15_F, PRESOE15_M, P3YM_HLI, P3YM_HLI_F, P3YM_HLI_M, P3HLINHE, P3HLINHE_F, P3HLINHE_M, P3HLI_HE, P3HLI_HE_F, P3HLI_HE_M, P5_HLI, P5_HLI_NHE, P5_HLI_HE, PHOG_IND, POB_AFRO, POB_AFRO_F, POB_AFRO_M, PCON_DISC, PCDISC_MOT, PCDISC_VIS, PCDISC_LENG, PCDISC_AUD, PCDISC_MOT2, PCDISC_MEN, PCON_LIMI, PCLIM_CSB, PCLIM_VIS, PCLIM_HACO, PCLIM_OAUD, ...]\n",
      "Index: []\n",
      "\n",
      "[0 rows x 251 columns]\n"
     ]
    }
   ],
   "source": [
    "print( gdf_culi )"
   ]
  },
  {
   "cell_type": "code",
   "execution_count": 28,
   "metadata": {},
   "outputs": [],
   "source": [
    "pyogrio.write_dataframe(gdf_blocks, \"geo_blocks.geojson\")"
   ]
  },
  {
   "cell_type": "code",
   "execution_count": 16,
   "metadata": {},
   "outputs": [
    {
     "data": {
      "text/plain": [
       "<Axes: >"
      ]
     },
     "execution_count": 16,
     "metadata": {},
     "output_type": "execute_result"
    },
    {
     "data": {
      "image/png": "[encoded data removed]",
      "text/plain": [
       "<Figure size 640x480 with 1 Axes>"
      ]
     },
     "metadata": {},
     "output_type": "display_data"
    }
   ],
   "source": [
    "gdf_blocks.plot()"
   ]
  },
  {
   "cell_type": "code",
   "execution_count": 74,
   "metadata": {},
   "outputs": [
    {
     "name": "stdout",
     "output_type": "stream",
     "text": [
      "Población en el Poligono de 12 años ocupada 117354.0\n"
     ]
    }
   ],
   "source": [
    "test = gdf_blocks[ gdf_blocks[\"VPH_CEL\"] > 0 ]\n",
    "\n",
    "print(  \"Población en el Poligono de 12 años ocupada\",test[\"POCUPADA\"].sum() )"
   ]
  },
  {
   "cell_type": "code",
   "execution_count": null,
   "metadata": {},
   "outputs": [],
   "source": [
    "gdf_capillas = pyogrio.read_dataframe('../data/_primavera/capillas_puntos.fgb')\n",
    "gdf_capillas"
   ]
  },
  {
   "cell_type": "code",
   "execution_count": null,
   "metadata": {},
   "outputs": [],
   "source": [
    "columns_rename = {\n",
    "  'POBTOT': 'Población total',\n",
    "  'POBFEM': 'Población total femenina',\n",
    "  'POBMAS': 'Población total masculina',\n",
    "  'P_3A5': 'Población de 3 a 5 años',\n",
    "  'P_6A11': 'Población de 6 a 11 años',\n",
    "  'P_8A14': 'Población de 8 a 14 años',\n",
    "  'P_12A14': 'Población de 12 a 14 años',\n",
    "  'P_15A17': 'Población de 15 a 17 años',\n",
    "  'P_18A24': 'Población de 18 a 24 años',\n",
    "  'P_60YMAS': 'Población de 60 años y más',\n",
    "  'PEA': 'Población económicamente activa',\n",
    "  'PSINDER': 'Población sin servicios de salud',\n",
    "  'PAFIL_IPRIV': 'Población con servicio de salud privado',\n",
    "  'VIVPAR_HAB': 'Viviendas particulares habitadas',\n",
    "  'VPH_TINACO': 'Viviendas particulares habitadas con tinaco',\n",
    "  'VPH_LAVAD': 'Viviendas particulares habitadas con lavadora',\n",
    "  'VPH_HMICRO': 'Viviendas particulares habitadas con horno de microondas',\n",
    "  'VPH_AUTOM': 'Viviendas particulares habitadas con automóvil',\n",
    "  'VPH_CVJ': 'Viviendas particulares habitadas con computadora y/o internet',\n",
    "  'PCATOLICA': 'Población católica',\n",
    "  'PSIN_RELIG': 'Población sin religión',\n",
    "  'GRAPROES': 'Grado promedio de escolaridad',\n",
    "  'PRESOE15_F': 'Mujeres que residian fuera de Mexico en 2015',\n",
    "  'PRESOE15_M': 'Hombres que residian fuera de Mexico en 2015',\n",
    "}"
   ]
  },
  {
   "cell_type": "code",
   "execution_count": null,
   "metadata": {},
   "outputs": [],
   "source": [
    "import sys\n",
    "sys.path.append('../')\n",
    "from scripts.accessibility import load_network\n",
    "import numpy as np\n",
    "\n",
    "WALK_SPEED = 1.2\n",
    "BETA = 0.01813\n",
    "WALK_RADIUS = 5000\n",
    "MAX_ESTABLISHMENTS = 1\n",
    "\n",
    "def a(network, from_gdf, to_gdf, sector, radius, importance = 1, amount = 1):\n",
    "  from_gdf['node_ids'] = network.get_node_ids(\n",
    "      from_gdf.geometry.centroid.x, from_gdf.geometry.centroid.y\n",
    "  )\n",
    "\n",
    "  to_gdf['node_ids'] = network.get_node_ids(\n",
    "      to_gdf.geometry.centroid.x, to_gdf.geometry.centroid.y\n",
    "  )\n",
    "  to_gdf['category'] = sector\n",
    "  network.set_pois(\n",
    "      category=sector,\n",
    "      x_col=to_gdf.geometry.centroid.x,\n",
    "      y_col=to_gdf.geometry.centroid.y,\n",
    "      maxdist=radius,\n",
    "      maxitems=MAX_ESTABLISHMENTS,\n",
    "  )\n",
    "  proximity = network.nearest_pois(\n",
    "      distance=radius,\n",
    "      category=sector,\n",
    "      num_pois=amount,\n",
    "      include_poi_ids=False,\n",
    "  )\n",
    "  distance = proximity[amount]\n",
    "  minutes = distance / (WALK_SPEED * 60)\n",
    "  from_gdf['distance'] = from_gdf['node_ids'].map(distance)\n",
    "  from_gdf['minutes'] = from_gdf['node_ids'].map(minutes)\n",
    "  from_gdf['temp'] = (\n",
    "      importance /\n",
    "      np.exp(BETA * from_gdf['distance'])\n",
    "  )\n",
    "\n",
    "  # Sum the accessibility scores for each node_id\n",
    "  accessibility_scores = from_gdf.groupby(\n",
    "      'node_ids')['temp'].sum().to_dict()\n",
    "\n",
    "  return accessibility_scores, from_gdf"
   ]
  },
  {
   "cell_type": "code",
   "execution_count": null,
   "metadata": {},
   "outputs": [],
   "source": [
    "pedestrian_network = load_network('../data/_primavera/final/pedestrian_network.hd5', gdf_bounds, WALK_RADIUS)\n",
    "pedestrian_network.precompute(WALK_RADIUS)"
   ]
  },
  {
   "cell_type": "code",
   "execution_count": null,
   "metadata": {},
   "outputs": [],
   "source": [
    "import geopandas as gpd\n",
    "from utils.constants import KEEP_COLUMNS\n",
    "import pandas as pd\n",
    "\n",
    "columns = [x for x in KEEP_COLUMNS if x in list(gdf_blocks.columns)]\n",
    "\n",
    "final_gdf = gpd.GeoDataFrame()\n",
    "for i, x in gdf_capillas.iterrows():\n",
    "  capillas = gpd.GeoDataFrame([x], crs=gdf_capillas.crs)\n",
    "  accessibility_scores, new_gdf = a(pedestrian_network, gdf_blocks, capillas, 'capillas', WALK_RADIUS)\n",
    "  new_gdf = new_gdf[new_gdf['minutes'] < 20]\n",
    "  new_gdf['name'] = x['nombre']\n",
    "  new_gdf = new_gdf.reset_index()\n",
    "  final_gdf = gpd.GeoDataFrame(pd.concat([final_gdf, new_gdf], ignore_index=True), crs=gdf_capillas.crs)\n",
    "final_gdf"
   ]
  },
  {
   "cell_type": "code",
   "execution_count": null,
   "metadata": {},
   "outputs": [],
   "source": [
    "final_gdf[final_gdf['name'] == 'Capilla San Lucas'].plot(column='PCATOLICA')"
   ]
  },
  {
   "cell_type": "code",
   "execution_count": null,
   "metadata": {},
   "outputs": [],
   "source": [
    "final_gdf[final_gdf['name'] == 'Capilla San José Sánchez del Río'].plot(column='PCATOLICA')"
   ]
  },
  {
   "cell_type": "code",
   "execution_count": null,
   "metadata": {},
   "outputs": [],
   "source": [
    "final_gdf[final_gdf['name'] == 'Capilla de Guadalupe'].plot(column='PCATOLICA')"
   ]
  },
  {
   "cell_type": "code",
   "execution_count": null,
   "metadata": {},
   "outputs": [],
   "source": [
    "final_gdf[final_gdf['name'] == 'Capilla María Auxiliadora'].plot(column='PCATOLICA')"
   ]
  },
  {
   "cell_type": "code",
   "execution_count": null,
   "metadata": {},
   "outputs": [],
   "source": [
    "fig, ax = plt.subplots(figsize=(20, 20))\n",
    "final_gdf.plot(ax=ax, column='name', legend=True, alpha=0.5, figsize=(20, 20))\n",
    "gdf_capillas.plot(ax=ax, column='nombre', markersize=50, legend=True)"
   ]
  },
  {
   "cell_type": "code",
   "execution_count": null,
   "metadata": {},
   "outputs": [],
   "source": [
    "replace_mapping = {\n",
    "  'GRAPROES': 'mean'\n",
    "}\n",
    "columns = set(final_gdf.columns)\n",
    "columns.remove(\"name\")\n",
    "columns.remove(\"geometry\")\n",
    "mapping = {x: replace_mapping[x] if x in replace_mapping else 'sum' for x in list(columns)}\n",
    "final_gdf = final_gdf.fillna(0)\n",
    "_a = final_gdf.dissolve('name', aggfunc=mapping)"
   ]
  },
  {
   "cell_type": "code",
   "execution_count": null,
   "metadata": {},
   "outputs": [],
   "source": [
    "columns_to_plot = [\n",
    "    'POBTOT',\n",
    "    'POBFEM',\n",
    "    'POBMAS',\n",
    "    'P_3A5',\n",
    "    'P_6A11',\n",
    "    'P_8A14',\n",
    "    'P_12A14',\n",
    "    'P_15A17',\n",
    "    'P_18A24',\n",
    "    'P_60YMAS',\n",
    "]\n",
    "_a_renamed = _a.rename(columns=columns_rename)\n",
    "columns_to_plot_renamed = [columns_rename[col] for col in columns_to_plot]\n",
    "ax = _a_renamed[columns_to_plot_renamed].plot(kind='barh', figsize=(10, 25), width=0.8)\n",
    "\n",
    "\n",
    "for bars in ax.containers:\n",
    "    labels = []\n",
    "    for i, bar in enumerate(bars):\n",
    "        value = int(bar.get_width())\n",
    "        reference_value = _a['POBTOT'].iloc[i]\n",
    "        percentage = value / reference_value * 100\n",
    "        labels.append(f'{value:,} ({percentage:.2f}%)')\n",
    "    ax.bar_label(bars, labels=labels, label_type='edge')\n",
    "\n",
    "ax.invert_yaxis()\n",
    "ax.set_ylabel('')\n",
    "ax.set_xlabel('Población', fontweight='bold')"
   ]
  },
  {
   "cell_type": "code",
   "execution_count": null,
   "metadata": {},
   "outputs": [],
   "source": [
    "columns_to_plot = [\n",
    "    'POBTOT',\n",
    "    'PEA',\n",
    "    'PSINDER',\n",
    "    'PAFIL_IPRIV',\n",
    "]\n",
    "\n",
    "_a_renamed = _a.rename(columns=columns_rename)\n",
    "columns_to_plot_renamed = [columns_rename[col] for col in columns_to_plot]\n",
    "ax = _a_renamed[columns_to_plot_renamed].plot(kind='barh', figsize=(10, 15), width=0.8)\n",
    "\n",
    "for bars in ax.containers:\n",
    "    labels = []\n",
    "    for i, bar in enumerate(bars):\n",
    "        value = int(bar.get_width())\n",
    "        reference_value = _a['POBTOT'].iloc[i]\n",
    "        percentage = value / reference_value * 100\n",
    "        labels.append(f'{value:,} ({percentage:.2f}%)')\n",
    "    ax.bar_label(bars, labels=labels, label_type='edge')\n",
    "\n",
    "ax.invert_yaxis()\n",
    "ax.set_ylabel('')\n",
    "ax.set_xlabel('Población', fontweight='bold')"
   ]
  },
  {
   "cell_type": "code",
   "execution_count": null,
   "metadata": {},
   "outputs": [],
   "source": [
    "columns_to_plot = [\n",
    "    'VIVPAR_HAB',\n",
    "    'VPH_TINACO',\n",
    "    'VPH_LAVAD',\n",
    "    'VPH_HMICRO',\n",
    "    'VPH_AUTOM',\n",
    "    'VPH_CVJ',\n",
    "]\n",
    "\n",
    "_a_renamed = _a.rename(columns=columns_rename)\n",
    "columns_to_plot_renamed = [columns_rename[col] for col in columns_to_plot]\n",
    "ax = _a_renamed[columns_to_plot_renamed].plot(kind='barh', figsize=(10, 25), width=0.8)\n",
    "\n",
    "for bars in ax.containers:\n",
    "    labels = []\n",
    "    for i, bar in enumerate(bars):\n",
    "        value = int(bar.get_width())\n",
    "        reference_value = _a['VIVPAR_HAB'].iloc[i]\n",
    "        percentage = value / reference_value * 100\n",
    "        labels.append(f'{value:,} ({percentage:.2f}%)')\n",
    "    ax.bar_label(bars, labels=labels, label_type='edge')\n",
    "\n",
    "ax.invert_yaxis()\n",
    "ax.set_ylabel('')\n",
    "ax.set_xlabel('Viviendas', fontweight='bold')"
   ]
  },
  {
   "cell_type": "code",
   "execution_count": null,
   "metadata": {},
   "outputs": [],
   "source": [
    "columns_to_plot = [\n",
    "    'POBTOT',\n",
    "    'PCATOLICA',\n",
    "    'PSIN_RELIG'\n",
    "]\n",
    "\n",
    "_a_renamed = _a.rename(columns=columns_rename)\n",
    "columns_to_plot_renamed = [columns_rename[col] for col in columns_to_plot]\n",
    "ax = _a_renamed[columns_to_plot_renamed].plot(kind='barh', figsize=(10, 10), width=0.8)\n",
    "\n",
    "for bars in ax.containers:\n",
    "    labels = []\n",
    "    for i, bar in enumerate(bars):\n",
    "        value = int(bar.get_width())\n",
    "        reference_value = _a['POBTOT'].iloc[i]\n",
    "        percentage = value / reference_value * 100\n",
    "        labels.append(f'{value:,} ({percentage:.2f}%)')\n",
    "    ax.bar_label(bars, labels=labels, label_type='edge')\n",
    "\n",
    "ax.invert_yaxis()\n",
    "ax.set_ylabel('')\n",
    "ax.set_xlabel('Población', fontweight='bold')"
   ]
  },
  {
   "cell_type": "code",
   "execution_count": null,
   "metadata": {},
   "outputs": [],
   "source": [
    "columns_to_plot = [\n",
    "  'GRAPROES'\n",
    "]\n",
    "\n",
    "_a_renamed = _a.rename(columns=columns_rename)\n",
    "columns_to_plot_renamed = [columns_rename[col] for col in columns_to_plot]\n",
    "ax = _a_renamed[columns_to_plot_renamed].plot(kind='barh', figsize=(10, 10), width=0.8)\n",
    "\n",
    "ax.invert_yaxis()\n",
    "ax.set_ylabel('')\n",
    "ax.set_xlabel('Grado promedio escolaridad', fontweight='bold')"
   ]
  },
  {
   "cell_type": "code",
   "execution_count": null,
   "metadata": {},
   "outputs": [],
   "source": [
    "_a['GRAPROES']"
   ]
  },
  {
   "cell_type": "code",
   "execution_count": null,
   "metadata": {},
   "outputs": [],
   "source": [
    "columns_to_plot = [\n",
    "  'PRESOE15_F',\n",
    "  'PRESOE15_M'\n",
    "]\n",
    "\n",
    "_a_renamed = _a.rename(columns=columns_rename)\n",
    "columns_to_plot_renamed = [columns_rename[col] for col in columns_to_plot]\n",
    "ax = _a_renamed[columns_to_plot_renamed].plot(kind='barh', figsize=(10, 10), width=0.8)\n",
    "\n",
    "for bars in ax.containers:\n",
    "    labels = []\n",
    "    for i, bar in enumerate(bars):\n",
    "        value = int(bar.get_width())\n",
    "        reference_value = _a['VIVPAR_HAB'].iloc[i]\n",
    "        percentage = value / reference_value * 100\n",
    "        labels.append(f'{value:,} ({percentage:.2f}%)')\n",
    "    ax.bar_label(bars, labels=labels, label_type='edge')\n",
    "\n",
    "ax.invert_yaxis()\n",
    "ax.set_ylabel('')\n",
    "ax.set_xlabel('Población', fontweight='bold')"
   ]
  },
  {
   "cell_type": "code",
   "execution_count": null,
   "metadata": {},
   "outputs": [],
   "source": [
    "_a = _a.reset_index()"
   ]
  },
  {
   "cell_type": "code",
   "execution_count": null,
   "metadata": {},
   "outputs": [],
   "source": [
    "final_gdf = final_gdf.reset_index()"
   ]
  },
  {
   "cell_type": "code",
   "execution_count": null,
   "metadata": {},
   "outputs": [],
   "source": [
    "columns_rename = {\n",
    "  'POBTOT': 'Población total',\n",
    "  'POBFEM': 'Población total femenina',\n",
    "  'POBMAS': 'Población total masculina',\n",
    "  'P_3A5': 'Población de 3 a 5 años',\n",
    "  'P_6A11': 'Población de 6 a 11 años',\n",
    "  'P_8A14': 'Población de 8 a 14 años',\n",
    "  'P_12A14': 'Población de 12 a 14 años',\n",
    "  'P_15A17': 'Población de 15 a 17 años',\n",
    "  'P_18A24': 'Población de 18 a 24 años',\n",
    "  'P_60YMAS': 'Población de 60 años y más',\n",
    "  'PEA': 'Población económicamente activa',\n",
    "  'PSINDER': 'Población sin servicios de salud',\n",
    "  'PAFIL_IPRIV': 'Población con servicio de salud privado',\n",
    "  'VIVPAR_HAB': 'Viviendas particulares habitadas',\n",
    "  'VPH_TINACO': 'Viviendas particulares habitadas con tinaco',\n",
    "  'VPH_LAVAD': 'Viviendas particulares habitadas con lavadora',\n",
    "  'VPH_HMICRO': 'Viviendas particulares habitadas con horno de microondas',\n",
    "  'VPH_AUTOM': 'Viviendas particulares habitadas con automóvil',\n",
    "  'VPH_CVJ': 'Viviendas particulares habitadas con computadora y/o internet',\n",
    "  'PCATOLICA': 'Población católica',\n",
    "  'PSIN_RELIG': 'Población sin religión',\n",
    "  'GRAPROES': 'Grado promedio de escolaridad'\n",
    "}"
   ]
  },
  {
   "cell_type": "code",
   "execution_count": null,
   "metadata": {},
   "outputs": [],
   "source": [
    "gdf_capillas = gpd.read_file('../data/_primavera/datos_capillas.geojson')"
   ]
  },
  {
   "cell_type": "code",
   "execution_count": null,
   "metadata": {},
   "outputs": [],
   "source": [
    "_b = _a[['name', *columns_rename.keys()]]\n",
    "gdf_capillas = gdf_capillas.merge(_b, left_on='Capilla/Iglesia', right_on='name', how='inner')"
   ]
  },
  {
   "cell_type": "code",
   "execution_count": null,
   "metadata": {},
   "outputs": [],
   "source": [
    "gdf_blocks2 = gdf_blocks.clip(final_gdf.unary_union)"
   ]
  },
  {
   "cell_type": "code",
   "execution_count": null,
   "metadata": {},
   "outputs": [],
   "source": [
    "gdf_blocks2 = gdf_blocks2.reset_index()"
   ]
  },
  {
   "cell_type": "code",
   "execution_count": null,
   "metadata": {},
   "outputs": [],
   "source": [
    "gdf_capillas = gdf_capillas.set_index('Capilla/Iglesia')"
   ]
  },
  {
   "cell_type": "code",
   "execution_count": null,
   "metadata": {},
   "outputs": [],
   "source": [
    "import folium\n",
    "from shapely.ops import unary_union\n",
    "\n",
    "# Load your GeoDataFrame\n",
    "columns = list(columns_rename.values())\n",
    "# Calculate the center of the map\n",
    "center = final_gdf.unary_union.centroid\n",
    "center_coords = [center.y, center.x]\n",
    "\n",
    "# Create the base map\n",
    "m = folium.Map(location=center_coords, zoom_start=14)\n",
    "colors = ['blue', 'green', 'purple', 'gray', 'brown']\n",
    "\n",
    "_gdf_blocks2 = gdf_blocks2.rename(columns=columns_rename)\n",
    "_gdf_capillas = gdf_capillas.rename(columns=columns_rename)\n",
    "\n",
    "for i, column in enumerate(columns):\n",
    "    group = folium.FeatureGroup(name=column, show=i == 0).add_to(m)\n",
    "\n",
    "    data_series = _gdf_blocks2[column]\n",
    "    quantiles = np.percentile(data_series, [0, 20, 40, 60, 80, 100])\n",
    "\n",
    "    folium.Choropleth(\n",
    "        geo_data=_gdf_blocks2,\n",
    "        data=_gdf_blocks2,\n",
    "        columns=['CVEGEO', column],\n",
    "        key_on='feature.properties.CVEGEO',\n",
    "        fill_color='Reds',\n",
    "        fill_opacity=1,\n",
    "        line_opacity=0,\n",
    "        legend_name=column,\n",
    "        bins=quantiles\n",
    "    ).geojson.add_to(group)\n",
    "\n",
    "group = folium.FeatureGroup(name='Capilla', show=True).add_to(m)\n",
    "for i, (name, row) in enumerate(_gdf_capillas.iterrows()):\n",
    "    info_html = row[[\"Días Más Comunes de Visita\", \"Horarios Más Comunes de Visita\", \"Número de Visitas\", \"Tipo de Datos\", \"Fuente de Datos \", *columns]].to_frame().to_html(\n",
    "    ) if not row.empty else \"No se cuenta con registros\"\n",
    "    folium.Marker(\n",
    "        icon=folium.Icon(color=colors[i], icon_color=colors[i]),\n",
    "        location=[row.geometry.y, row.geometry.x],\n",
    "        popup=folium.Popup(info_html, max_width=300, min_width=300)\n",
    "    ).add_to(group)\n",
    "\n",
    "boundaries = final_gdf.groupby('name').apply(lambda x: x.unary_union.boundary)\n",
    "outline_gdf = gpd.GeoDataFrame(\n",
    "    geometry=boundaries, crs=gdf_blocks2.crs).reset_index()\n",
    "outline_gdf['geometry'] = outline_gdf['geometry'].apply(\n",
    "    lambda x: unary_union(x))\n",
    "outline_gdf['geometry'] = outline_gdf['geometry'].concave_hull(0.2)\n",
    "unique_names = list(final_gdf['name'].unique())\n",
    "folium.GeoJson(\n",
    "    outline_gdf,\n",
    "    name='outline',\n",
    "    style_function=lambda x: {\n",
    "        'color': colors[unique_names.index(x['properties']['name'])],\n",
    "        'fillColor': 'transparent',\n",
    "        'weight': 5,\n",
    "    }\n",
    ").add_to(group)\n",
    "\n",
    "# Add LayerControl\n",
    "folium.LayerControl(collapsed=False).add_to(m)\n",
    "\n",
    "display(m)"
   ]
  },
  {
   "cell_type": "code",
   "execution_count": null,
   "metadata": {},
   "outputs": [],
   "source": [
    "m.save('../capillas.html')"
   ]
  },
  {
   "cell_type": "code",
   "execution_count": null,
   "metadata": {},
   "outputs": [],
   "source": [
    "_b = _b[['name', *columns_rename.keys()]]\n",
    "_b = _b.rename(columns=columns_rename)\n",
    "_b.to_csv('../capillas.csv', index=False)"
   ]
  },
  {
   "cell_type": "code",
   "execution_count": null,
   "metadata": {},
   "outputs": [],
   "source": [
    "final_gdf.to_file('test/minutos_capillas_final.geojson', driver='GeoJSON')"
   ]
  },
  {
   "cell_type": "code",
   "execution_count": null,
   "metadata": {},
   "outputs": [],
   "source": [
    "gdf_capillas.to_file('test/capillas_final.geojson', driver='GeoJSON')"
   ]
  },
  {
   "cell_type": "code",
   "execution_count": null,
   "metadata": {},
   "outputs": [],
   "source": []
  }
 ],
 "metadata": {
  "kernelspec": {
   "display_name": "vivienda",
   "language": "python",
   "name": "python3"
  },
  "language_info": {
   "codemirror_mode": {
    "name": "ipython",
    "version": 3
   },
   "file_extension": ".py",
   "mimetype": "text/x-python",
   "name": "python",
   "nbconvert_exporter": "python",
   "pygments_lexer": "ipython3",
   "version": "3.12.4"
  }
 },
 "nbformat": 4,
 "nbformat_minor": 2
}
